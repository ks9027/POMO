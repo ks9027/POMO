{
 "cells": [
  {
   "cell_type": "code",
   "execution_count": 232,
   "metadata": {},
   "outputs": [
    {
     "name": "stdout",
     "output_type": "stream",
     "text": [
      "2.3.1\n"
     ]
    }
   ],
   "source": [
    "\n",
    "import subprocess  # subprocess 모듈을 가져옴\n",
    "import sys\n",
    "\n",
    "# torch 모듈을 임시로 설치하는 코드\n",
    "try:\n",
    "    import torch\n",
    "except ImportError:\n",
    "    print(\"Torch is not installed. Installing torch...\")\n",
    "    subprocess.check_call([sys.executable, \"-m\", \"pip\", \"install\", \"torch\"])\n",
    "    import torch\n",
    "\n",
    "# 이후 torch를 사용한 코드 작성\n",
    "print(torch.__version__)\n",
    "\n",
    "\n",
    "\n",
    "def get_random_problems(batch_size, problem_size): # size를 입력으로 받아 무작위로 생성된 경로 문제를 반환\n",
    "    #batch_size = 동시에 생성할 문제의 개수\n",
    "    #problem_size = 문제 내의 고객 노드의 수(방문해야 할 위치의 수)\n",
    "\n",
    "    depot_xy = torch.full((batch_size, 1, 2), 0.5) # 나중에 depot 고정해야하니까 잊지 말기!!!\n",
    "    # shape: (batch, 1, 2) # (문제의 개수, depot의 개수, 2차원)\n",
    "\n",
    "    node_xy = torch.rand(size=(batch_size, problem_size, 2))\n",
    "    # shape: (batch, problem, 2)  # (문제의 개수, node의 개수, 2차원)\n",
    "\n",
    "    if problem_size == 10:\n",
    "        demand_scaler = 15\n",
    "    elif problem_size == 20:\n",
    "        demand_scaler = 30\n",
    "    elif problem_size == 50:\n",
    "        demand_scaler = 40\n",
    "    elif problem_size == 100:\n",
    "        demand_scaler = 50 ## 현재 problem size가 20 50 100으로 고정되어 있는데 이건 나중에 바꿔도 됨\n",
    "    else:\n",
    "        raise NotImplementedError\n",
    "\n",
    "    node_demand = torch.rand(size=(batch_size, problem_size)) * 0.3\n",
    "\n",
    "    return depot_xy, node_xy, node_demand\n",
    "\n",
    "\n",
    "\n",
    "def augment_xy_data_by_8_fold(xy_data):\n",
    "    # xy_data.shape: (batch, N, 2) # 입력된 좌표 데이터를 8배로 증강하여 반환\n",
    "    # N은 각 문제에 포함된 노드의 수를 의미\n",
    "\n",
    "    x = xy_data[:, :, [0]] #모든 (x,y) 좌표중 x값만 뽑아냄\n",
    "    y = xy_data[:, :, [1]] #모든 (x,y) 좌표중 y값만 뽑아냄\n",
    "    # x,y shape: (batch, N, 1)\n",
    "\n",
    "    dat1 = torch.cat((x, y), dim=2) #원본 데이터\n",
    "    dat2 = torch.cat((1 - x, y), dim=2) # x축 기준 좌표 반전\n",
    "    dat3 = torch.cat((x, 1 - y), dim=2) # y축 기준 좌표 반전\n",
    "    dat4 = torch.cat((1 - x, 1 - y), dim=2) # 원점 기준 좌표 반전\n",
    "    dat5 = torch.cat((y, x), dim=2) # y=x 직선에 대한 반전\n",
    "    dat6 = torch.cat((1 - y, x), dim=2) # y=-x 직선에 대한 반전\n",
    "    dat7 = torch.cat((y, 1 - x), dim=2) # x 축 반전 후 y= x에 대해 반전\n",
    "    dat8 = torch.cat((1 - y, 1 - x), dim=2) # 원점 기준 좌표 반전 후 y = x 직선에 대해 반전\n",
    "\n",
    "    aug_xy_data = torch.cat((dat1, dat2, dat3, dat4, dat5, dat6, dat7, dat8), dim=0)\n",
    "    # shape: (8*batch, N, 2)\n",
    "    # 한 데이터로 8개의 데이터를 만듦으로 총 데이터의 shape 은 (8*B, N, 2)\n",
    " \n",
    "    return aug_xy_data\n"
   ]
  },
  {
   "cell_type": "code",
   "execution_count": 233,
   "metadata": {},
   "outputs": [],
   "source": [
    "\n",
    "from dataclasses import dataclass\n",
    "import torch\n",
    "import sys\n",
    "import os\n",
    "from CVRProblemDef import get_random_problems, augment_xy_data_by_8_fold\n",
    "\n",
    "\n",
    "\n",
    "\n",
    "@dataclass #dataclass는 데이터 중심의 클래스 정의를 더 간결하고 명확하게 만들어주는 도구임\n",
    "class Reset_State: #초기화 시의 상태 저장 클래스\n",
    "    depot_xy: torch.Tensor = None\n",
    "    # shape: (batch, 1, 2)\n",
    "    node_xy: torch.Tensor = None\n",
    "    # shape: (batch, problem, 2)\n",
    "    node_demand: torch.Tensor = None\n",
    "    # shape: (batch, problem)\n",
    "\n",
    "\n",
    "@dataclass\n",
    "class Step_State: #매 단계마다의 상태 저장 클래스\n",
    "    BATCH_IDX: torch.Tensor = None\n",
    "    POMO_IDX: torch.Tensor = None\n",
    "    # shape: (batch, pomo)\n",
    "    selected_count: int = None #현재까지 남아있는 노드의 수\n",
    "    load: torch.Tensor = None #현재 남아있는 적재량 (추후에 현재 남아있는 배터리량도 넣어줘야함)\n",
    "    # shape: (batch, pomo)\n",
    "    soc: torch.Tensor = None #현재 남아있는 배터리량\n",
    "    # shape: (batch, pomo)\n",
    "    current_node: torch.Tensor = None #현재 위치한 노드\n",
    "    # shape: (batch, pomo)\n",
    "    ninf_mask: torch.Tensor = None #방문 불가능한 노드나 이미 방문한 노드 표시\n",
    "    # shape: (batch, pomo, problem+1)\n",
    "    finished: torch.Tensor = None #각 그룹의 작업이 완료되었는지 판단\n",
    "    # shape: (batch, pomo)\n",
    "\n",
    "\n",
    "class CVRPEnv: #환경을 설정하고 데이터를 관리하며 상태를 추적하고 업데이트하는 역할을 하는 클래스\n",
    "    def __init__(self, **env_params):\n",
    "\n",
    "        # Const @INIT\n",
    "        ####################################\n",
    "        self.env_params = env_params #환경 매개변수 저장\n",
    "        self.problem_size = env_params['problem_size'] #문제의 크기\n",
    "        self.pomo_size = env_params['pomo_size'] #pomo의 크기\n",
    "        self.initial_battery = 100\n",
    "\n",
    "        self.FLAG__use_saved_problems = False #저장된 문제 데이터를 사용할지 여부(기본값은 false)\n",
    "        self.saved_depot_xy = None # 얻어진 depot의 좌표를 저장할 변수\n",
    "        self.saved_node_xy = None # 얻어진 고객 노드들의 좌표를 저장할 변수\n",
    "        self.saved_node_demand = None #얻어진 고객 노드들의 수요를 저장할 변수\n",
    "        self.saved_index = None # 얻어진 문제 데이터의 인덱스를 추적하는 변수\n",
    "\n",
    "        # Const @Load_Problem\n",
    "        ####################################\n",
    "        self.batch_size = None # 배치 크기를 저장하는 변수\n",
    "        self.BATCH_IDX = None # 배치 인덱스를 저장하는 텐서\n",
    "        self.POMO_IDX = None # POMO 인덱스를 저장하는 텐서(에이전트의 인덱스)\n",
    "        # IDX.shape: (batch, pomo) \n",
    "        self.depot_node_xy = None #depot과 node의 좌표를 포함하는 텐서\n",
    "        # shape: (batch, problem+1, 2)\n",
    "        self.depot_node_demand = None #depot과 node의 수요를 포함하는 텐서\n",
    "        # shape: (batch, problem+1)\n",
    "\n",
    "        # Dynamic-1\n",
    "        ####################################\n",
    "        self.selected_count = None #현재까지 선택된 노드의 수를 저장하는 변수\n",
    "        self.current_node = None #현재 선택된 노드를 저장하는 변수\n",
    "        # shape: (batch, pomo)\n",
    "        self.selected_node_list = None # 현재까지 선택된 노드들이 순서대로 저장되는 노드 리스트 변수\n",
    "        # shape: (batch, pomo, 0~)\n",
    "\n",
    "        # Dynamic-2\n",
    "        ####################################\n",
    "        self.at_the_depot = None #각 에이전트가 현재 depot에 있는지 나타내는 변수\n",
    "        # shape: (batch, pomo)\n",
    "        self.load = None #각 에이전트가 현재 드론에 남아있는 용량을 저장하는 변수\n",
    "        # shape: (batch, pomo)\n",
    "        self.soc = None\n",
    "        # shape: (batch, pomo)\n",
    "        self.visited_ninf_flag = None #방문한 노드들에 대해 마스크를 적용하는 플래그 변수\n",
    "        # shape: (batch, pomo, problem+1)\n",
    "        self.ninf_mask = None #선택 불가능한 노드에 대해 마스크를 적용하는 변수\n",
    "        # shape: (batch, pomo, problem+1)\n",
    "        self.finished = None #각 에이전트의 여행이 완료되었는지를 나타내는 변수\n",
    "        # shape: (batch, pomo)\n",
    "\n",
    "        # states to return\n",
    "        ####################################\n",
    "        self.reset_state = Reset_State() #환경을 초기화한 상태를 저장하기 위한 객체\n",
    "        self.step_state = Step_State() # 각 단계에서의 상태를 저장하기 위한 객체\n",
    "\n",
    "    def use_saved_problems(self, filename, device): # 이전에 생성된 문제 데이터를 로드하여 사용할 수 있도록 설정하는 역할\n",
    "        self.FLAG__use_saved_problems = True # 저장된 문제 데이터를 사용할지 여부를 나타내는 변수로 기본 값은 True\n",
    "\n",
    "        loaded_dict = torch.load(filename, map_location=device) #저장된 데이터 불러옴\n",
    "        self.saved_depot_xy = loaded_dict['depot_xy'] #저장된 데이터의 디폿 값\n",
    "        self.saved_node_xy = loaded_dict['node_xy'] # 저장된 데이터의 노드값\n",
    "        self.saved_node_demand = loaded_dict['node_demand'] #저장된 데이터의 수요값\n",
    "        self.saved_index = 0 #로드된 데이터를 사용하기 위한 인덱스 초기화(이건 depot 고정일때 다시 한번 생각해 봐야함)\n",
    "\n",
    "    def load_problems(self, batch_size, aug_factor=1): #문제 데이터를 로드하거나 필요에 따라 데이터를 증강하는 역할을 함\n",
    "        self.batch_size = batch_size #배치사이즈를 클래스 인스턴스의 self.batch_size 변수에 저장\n",
    "\n",
    "        if not self.FLAG__use_saved_problems: # 저장된 문제 데이터를 사용할지 여부를 결정\n",
    "            depot_xy, node_xy, node_demand = get_random_problems(batch_size, self.problem_size) #false일 경우 새 문제 데이터 생성\n",
    "        else: # true일 경우 저장된 문제 데이터 로드\n",
    "            depot_xy = self.saved_depot_xy[self.saved_index:self.saved_index+batch_size]\n",
    "            node_xy = self.saved_node_xy[self.saved_index:self.saved_index+batch_size]\n",
    "            node_demand = self.saved_node_demand[self.saved_index:self.saved_index+batch_size]\n",
    "            self.saved_index = self.saved_index + batch_size # 저장된 인덱스 이후의 데이터를 사용할 수 있도록 함\n",
    "\n",
    "        if aug_factor > 1: #데이터 증강 배율이 1보다 크면 데이터 증강 수행\n",
    "            if aug_factor == 8: #8배인경우 배치 크기 8배로 설정\n",
    "                self.batch_size = self.batch_size * 8\n",
    "                depot_xy = augment_xy_data_by_8_fold(depot_xy)\n",
    "                node_xy = augment_xy_data_by_8_fold(node_xy)\n",
    "                node_demand = node_demand.repeat(8, 1)\n",
    "            else: # 1과 8 둘다 아니면 예외를 발생\n",
    "                raise NotImplementedError\n",
    "\n",
    "        self.depot_node_xy = torch.cat((depot_xy, node_xy), dim=1) #depot과 node의 좌표를 결합하여 저장\n",
    "        # shape: (batch, problem+1, 2)\n",
    "        depot_demand = torch.zeros(size=(self.batch_size, 1)) #차량 기지에 대해서는 수요를 0으로 설정\n",
    "        # shape: (batch, 1)\n",
    "        self.depot_node_demand = torch.cat((depot_demand, node_demand), dim=1) #차량 기지의 수요와 고객 노드들의 수요를 결합하여 총 수요를 저장\n",
    "        # shape: (batch, problem+1)\n",
    "\n",
    "\n",
    "        self.BATCH_IDX = torch.arange(self.batch_size)[:, None].expand(self.batch_size, self.pomo_size) #각 배치의 인덱스를 반복하여 pomo 크기만큼 확장한 인덱스 텐서 생성\n",
    "        self.POMO_IDX = torch.arange(self.pomo_size)[None, :].expand(self.batch_size, self.pomo_size) #pomo의 인덱스를 배치 크기만큼 확장한 인덱스 텐서를 생성\n",
    "\n",
    "        self.reset_state.depot_xy = depot_xy #depot.xy를 reset_state 객체에 저장\n",
    "        self.reset_state.node_xy = node_xy #node.xy를 reset_state 객체에 저장\n",
    "        self.reset_state.node_demand = node_demand #node_demand를 reset_state 객체에 저장\n",
    "\n",
    "        self.step_state.BATCH_IDX = self.BATCH_IDX #이전에 생성한 batch_idx를 step_state개체의 batch_idx 속성에 저장\n",
    "        self.step_state.POMO_IDX = self.POMO_IDX #이전에 생성한 pomo_idx를 step_state개체의 pomo_idx 속성에 저장\n",
    "        \n",
    "        # batch : 여러 문제 인스턴스를 동시에 처리하여 학습 속도를 높임\n",
    "        # POMO :각 문제 인스턴스에 대해 다양한 경로를 생성하여 더 나은 솔루션을 찾도록 도와줌\n",
    "\n",
    "    def reset(self): #환경 상태를 초기화하여 새로운 에피소드를 시작할 준비를 함\n",
    "        self.selected_count = 0 # 선택된 노드의 개수를 0으로 초기화\n",
    "        self.current_node = None # 현재 선택된 노드를 none으로 설정하여 아직 어떤 노드도 설정되지 않았음을 나타냄\n",
    "        # shape: (batch, pomo)\n",
    "        self.selected_node_list = torch.zeros((self.batch_size, self.pomo_size, 0), dtype=torch.long) #선택된 노드들의 리스트를 저장하는 역할을 하며 초기화\n",
    "        # shape: (batch, pomo, 0~)\n",
    "\n",
    "        self.at_the_depot = torch.ones(size=(self.batch_size, self.pomo_size), dtype=torch.bool) #모든 pomo의 위치가 depot에 있음을 나타냄\n",
    "        # shape: (batch, pomo)\n",
    "        self.load = torch.ones(size=(self.batch_size, self.pomo_size)) # 모든 pomo가 가지고 있는 용량을 나타냄\n",
    "        # shape: (batch, pomo)\n",
    "        self.soc = torch.ones(size=(self.batch_size, self.pomo_size)) * (self.initial_battery - 5)  # 초기 배터리 잔량을 100으로 설정 (예시)\n",
    "        # shape: (batch, pomo)\n",
    "        self.visited_ninf_flag = torch.zeros(size=(self.batch_size, self.pomo_size, self.problem_size+1)) #각 노드가 방문되었는지 여부를 나타내며 모든 요소가 0으로 초기화\n",
    "        # shape: (batch, pomo, problem+1)\n",
    "        self.ninf_mask = torch.zeros(size=(self.batch_size, self.pomo_size, self.problem_size+1)) #선택할 수 없는 노드에 대해 마스킴하며 모든 요소가 0으로 초기화\n",
    "        # shape: (batch, pomo, problem+1)\n",
    "        self.finished = torch.zeros(size=(self.batch_size, self.pomo_size), dtype=torch.bool) # 각 POMO가 작업을 완료했는지 여부를 나타내며 모든 요소가 false로 초기화\n",
    "        # shape: (batch, pomo)\n",
    "\n",
    "        reward = None #초기에는 보상이 없으므로 none\n",
    "        done = False #에피소드가 완료되지 않았으므로 false\n",
    "        return self.reset_state, reward, done # 초기화된 상태의 보상과 완료 여부를 반환\n",
    "\n",
    "    def pre_step(self): #reset_state를 step_state에 저장하고 다음 단계를 수행하기 전 상태를 업데이트하도록 준비하는 역할\n",
    "        self.step_state.selected_count = self.selected_count # 현재까지 선택된 노드의 개수를 나타냄\n",
    "        self.step_state.load = self.load # 각 POMO가 현재 가지고 있는 용량을 나타냄\n",
    "        self.step_state.soc = self.soc # 각 드론의 배터리 잔량 업데이트\n",
    "        self.step_state.current_node = self.current_node # 현재 선택된 노드를 나타냄\n",
    "        self.step_state.ninf_mask = self.ninf_mask # 선택할 수 없는 노드를 마스킹하기 위한 텐서\n",
    "        self.step_state.finished = self.finished # 각 POMO가 작업을 완료했는지 여부를 나타냄\n",
    "\n",
    "        reward = None #보상을 none으로 초기화\n",
    "        done = False #에피소드가 완료되지 않았음을 표현\n",
    "        return self.step_state, reward, done #현재 상태 보상 완료상태를 반환\n",
    "\n",
    "    def step(self, selected): \n",
    "        # 선택된 노드의 거리를 계산하고 배터리 소모량을 업데이트\n",
    "        segment_distances = self._get_segment_distances()\n",
    "        \n",
    "        # 각 구간의 거리에 따라 배터리 소모량 계산\n",
    "        for i in range(self.selected_node_list.size(2) - 1):\n",
    "            current_distances = segment_distances[:, :, i]\n",
    "            self.soc = self.soc - self.calculate_soc(self.load, current_distances)  # 배터리 소모 적용\n",
    "\n",
    "        # 디버깅: 배터리 소모가 적용된 후의 SoC 출력\n",
    "        print(f\"Updated SoC after applying segment distances: {self.soc}\")\n",
    "\n",
    "        # Dynamic-1: 노드 선택과 업데이트\n",
    "        self.selected_count += 1  \n",
    "        self.current_node = selected  \n",
    "        self.selected_node_list = torch.cat((self.selected_node_list, self.current_node[:, :, None]), dim=2)\n",
    "\n",
    "        # Dynamic-2: 적재량과 배터리 업데이트\n",
    "        self.at_the_depot = (selected == 0)\n",
    "        demand_list = self.depot_node_demand[:, None, :].expand(self.batch_size, self.pomo_size, -1)\n",
    "        gathering_index = selected[:, :, None]\n",
    "        selected_demand = demand_list.gather(dim=2, index=gathering_index).squeeze(dim=2)\n",
    "\n",
    "        # Load 업데이트\n",
    "        self.load = self.load - selected_demand\n",
    "        self.load[self.at_the_depot] = 1  # depot에 있는 드론은 적재량 리필\n",
    "\n",
    "        # depot 복귀 판단\n",
    "        distance_to_depot = self.calculate_distance_to_depot(selected)\n",
    "        battery_consumption_to_depot = self.calculate_soc(self.load, distance_to_depot)\n",
    "        remaining_battery_after_return = self.soc - battery_consumption_to_depot\n",
    "\n",
    "        # 배터리가 부족한 드론은 depot으로 복귀\n",
    "        selected = selected.clone()\n",
    "        selected[(remaining_battery_after_return < 15) & (~self.at_the_depot)] = 0\n",
    "        self.soc[self.at_the_depot] = self.initial_battery - 5  # depot에서 배터리 리필\n",
    "\n",
    "        # 디버깅: 배터리 리필 후 SoC 출력\n",
    "        print(f\"Updated SoC after potential depot return: {self.soc}\")\n",
    "\n",
    "        # 상태 업데이트\n",
    "        self.step_state.selected_count = self.selected_count\n",
    "        self.step_state.load = self.load\n",
    "        self.step_state.soc = self.soc\n",
    "        self.step_state.current_node = self.current_node\n",
    "        self.step_state.ninf_mask = self.ninf_mask\n",
    "        self.step_state.finished = self.finished\n",
    "\n",
    "        # 완료 여부 반환\n",
    "        done = self.finished.all()\n",
    "        reward = -self._get_travel_distance() if done else None\n",
    "\n",
    "        return self.step_state, reward, done\n",
    "\n",
    "\n",
    "\n",
    "\n",
    "    \n",
    "    def calculate_soc(self, payload, distances):\n",
    "        # 배터리 소모율 계산\n",
    "        soc_consumption = torch.zeros_like(payload)\n",
    "\n",
    "        # 각 payload 구간에 따라 BCR 적용\n",
    "        soc_consumption = soc_consumption + torch.logical_and(payload >= 0, payload < 0.2) * (-2.29705 * 0.1 + 3.87886) * distances\n",
    "        soc_consumption = soc_consumption + torch.logical_and(payload >= 0.2, payload < 0.4) * (-2.29705 * 0.3 + 3.87886) * distances\n",
    "        soc_consumption = soc_consumption + torch.logical_and(payload >= 0.4, payload < 0.6) * (-2.29705 * 0.5 + 3.87886) * distances\n",
    "        soc_consumption = soc_consumption + torch.logical_and(payload >= 0.6, payload < 0.8) * (-2.29705 * 0.7 + 3.87886) * distances\n",
    "        soc_consumption = soc_consumption + torch.logical_and(payload >= 0.8, payload <= 1.0) * (-2.29705 * 0.9 + 3.87886) * distances\n",
    "\n",
    "        return soc_consumption\n",
    "    \n",
    "    #def calculate_travel_time(self, current_node):\n",
    "        # 노드 간의 거리와 속도에 따라 시간을 계산합니다.\n",
    "    #   distances = self._get_travel_distance()\n",
    "    #  time_per_node = distances / 22.0  # 속도 22km/h로 고정\n",
    "    #    return time_per_node\n",
    "    \n",
    "    def calculate_distance_to_depot(self, selected):\n",
    "        # 선택된 노드에서 디팟까지의 거리를 계산하는 함수\n",
    "        depot_xy = self.depot_node_xy[:, 0, :].unsqueeze(1).expand(self.batch_size, selected.size(1), -1)  # (batch, pomo, 2)로 확장\n",
    "        node_xy = self.depot_node_xy[self.BATCH_IDX, selected]  # 선택된 노드의 좌표\n",
    "\n",
    "        distance_to_depot = torch.sqrt(((node_xy - depot_xy) ** 2).sum(dim=-1))  # 유클리드 거리 계산\n",
    "        return distance_to_depot\n",
    "    \n",
    "    def _get_segment_distances(self):\n",
    "            gathering_index = self.selected_node_list[:, :, :, None].expand(-1, -1, -1, 2)\n",
    "            # shape: (batch, pomo, selected_list_length, 2)\n",
    "    \n",
    "            all_xy = self.depot_node_xy[:, None, :, :].expand(-1, self.pomo_size, -1, -1)\n",
    "            # shape: (batch, pomo, problem+1, 2)\n",
    "\n",
    "            ordered_seq = all_xy.gather(dim=2, index=gathering_index)\n",
    "            # 선택된 노드들의 좌표를 순서대로 나열\n",
    "            # shape: (batch, pomo, selected_list_length, 2)\n",
    "\n",
    "            rolled_seq = ordered_seq.roll(dims=2, shifts=-1)\n",
    "            # ordered_seq를 한 칸씩 이동하여 각 구간의 거리를 계산하기 위한 준비\n",
    "            # shape: (batch, pomo, selected_list_length, 2)\n",
    "\n",
    "            segment_lengths = ((ordered_seq - rolled_seq) ** 2).sum(3).sqrt()\n",
    "            # 각 구간의 유클리드 거리 계산\n",
    "            # shape: (batch, pomo, selected_list_length)\n",
    "\n",
    "            return segment_lengths\n",
    "        \n",
    "    def _get_travel_distance(self):\n",
    "        gathering_index = self.selected_node_list[:, :, :, None].expand(-1, -1, -1, 2) \n",
    "        # 마지막에 2인 이유는 (x,y)의 노드 인덱스를 가져오기 위함임\n",
    "        # shape: (batch, pomo, selected_list_length, 2)\n",
    "        all_xy = self.depot_node_xy[:, None, :, :].expand(-1, self.pomo_size, -1, -1) \n",
    "        #각 배치와 pomo인덱스에 대해 모든 노드의 좌표를 반복하여 확장한 텐서\n",
    "        # shape: (batch, pomo, problem+1, 2)\n",
    "\n",
    "        ordered_seq = all_xy.gather(dim=2, index=gathering_index) \n",
    "        #gathering_index를 사용하여 all xy 텐서에서 각 노드의 좌표를 추출하며 이 코드는 선택된 노드들의 좌표를 순서대로 나열하겠다는 의미\n",
    "        # shape: (batch, pomo, selected_list_length, 2)\n",
    "\n",
    "        rolled_seq = ordered_seq.roll(dims=2, shifts=-1) \n",
    "        #ordered_seq을 한 칸씩 왼쪽으로 이동시킨 텐서로 마지막 노드는 처음으로 이동\n",
    "        segment_lengths = ((ordered_seq-rolled_seq)**2).sum(3).sqrt() \n",
    "        #ordered_seq과 rolled_seq사이의 차이를 구하고 이를 제곱한 후 마지막 차원에서 제곱하여 마지막 차원에서 합산하여 각 구간의 거리의 제곱을 계산\n",
    "        # shape: (batch, pomo, selected_list_length)\n",
    "\n",
    "        travel_distances = segment_lengths.sum(2) #각 구간의 거리를 합산하여 총 이동 거리를 계산\n",
    "        # shape: (batch, pomo)\n",
    "        \n",
    "        return travel_distances\n",
    "\n"
   ]
  },
  {
   "cell_type": "code",
   "execution_count": 234,
   "metadata": {},
   "outputs": [
    {
     "name": "stdout",
     "output_type": "stream",
     "text": [
      "\n",
      "--- Debugging reset() ---\n",
      "Depot XY: tensor([[[0.5000, 0.5000]]])\n",
      "Node XY: tensor([[[0.3708, 0.4093],\n",
      "         [0.4508, 0.4275],\n",
      "         [0.3636, 0.4579],\n",
      "         [0.5859, 0.3165],\n",
      "         [0.4186, 0.8525],\n",
      "         [0.3151, 0.3367],\n",
      "         [0.3270, 0.4195],\n",
      "         [0.0498, 0.5020],\n",
      "         [0.8169, 0.1747],\n",
      "         [0.3797, 0.1441]]])\n",
      "Node Demand: tensor([[0.6000, 0.0667, 0.6000, 0.3333, 0.0667, 0.6000, 0.4667, 0.6000, 0.2000,\n",
      "         0.5333]])\n",
      "Reward: None\n",
      "Done: False\n",
      "--------------------------\n",
      "\n",
      "\n",
      "--- Debugging pre_step() ---\n",
      "Selected Count: 0\n",
      "Load: tensor([[1., 1., 1., 1., 1.]])\n",
      "Battery (SoC): tensor([[95., 95., 95., 95., 95.]])\n",
      "Current Node: None\n",
      "Ninf Mask: tensor([[[0., 0., 0., 0., 0., 0., 0., 0., 0., 0., 0.],\n",
      "         [0., 0., 0., 0., 0., 0., 0., 0., 0., 0., 0.],\n",
      "         [0., 0., 0., 0., 0., 0., 0., 0., 0., 0., 0.],\n",
      "         [0., 0., 0., 0., 0., 0., 0., 0., 0., 0., 0.],\n",
      "         [0., 0., 0., 0., 0., 0., 0., 0., 0., 0., 0.]]])\n",
      "Finished: tensor([[False, False, False, False, False]])\n",
      "Reward: None\n",
      "Done: False\n",
      "-----------------------------\n",
      "\n",
      "\n",
      "Selection 0:\n",
      "Selected Nodes: tensor([[0, 0, 0, 0, 0]])\n",
      "Probabilities: tensor([[1., 1., 1., 1., 1.]])\n",
      "Remaining Load: tensor([[1., 1., 1., 1., 1.]])\n",
      "Remaining Battery (SoC): tensor([[95., 95., 95., 95., 95.]])\n",
      "Demand at Selected Nodes: [[0. 0. 0. 0. 0.]]\n",
      "\n",
      "Selection 1:\n",
      "Selected Nodes: tensor([[1, 2, 3, 4, 5]])\n",
      "Probabilities: tensor([[1., 1., 1., 1., 1.]])\n",
      "Remaining Load: tensor([[1., 1., 1., 1., 1.]])\n",
      "Remaining Battery (SoC): tensor([[95., 95., 95., 95., 95.]])\n",
      "Demand at Selected Nodes: [[0.6        0.06666667 0.6        0.33333334 0.06666667]]\n",
      "Distance from Previous Node: [[0.15789177 0.08767252 0.14271691 0.20263276 0.36174887]]\n",
      "\n",
      "Selection 2:\n",
      "Selected Nodes: tensor([[0, 0, 0, 0, 0]])\n",
      "Probabilities: tensor([[0.9998, 0.9782, 0.9997, 0.9579, 0.9875]], grad_fn=<ViewBackward0>)\n",
      "Remaining Load: tensor([[0.4000, 0.9333, 0.4000, 0.6667, 0.9333]])\n",
      "Remaining Battery (SoC): tensor([[95., 95., 95., 95., 95.]])\n",
      "Demand at Selected Nodes: [[0. 0. 0. 0. 0.]]\n",
      "Distance from Previous Node: [[0.15789177 0.08767252 0.14271691 0.20263276 0.36174887]]\n",
      "\n",
      "Selection 3:\n",
      "Selected Nodes: tensor([[10,  6,  6,  1,  2]])\n",
      "Probabilities: tensor([[0.2525, 0.1583, 0.1661, 0.1052, 0.0398]], grad_fn=<ViewBackward0>)\n",
      "Remaining Load: tensor([[1., 1., 1., 1., 1.]])\n",
      "Remaining Battery (SoC): tensor([[95., 95., 95., 95., 95.]])\n",
      "Demand at Selected Nodes: [[0.53333336 0.6        0.6        0.6        0.06666667]]\n",
      "Distance from Previous Node: [[0.37566796 0.24669574 0.24669574 0.15789177 0.08767252]]\n",
      "\n",
      "Selection 4:\n",
      "Selected Nodes: tensor([[0, 0, 0, 0, 0]])\n",
      "Probabilities: tensor([[0.9994, 0.9999, 0.9999, 0.9999, 0.9960]], grad_fn=<ViewBackward0>)\n",
      "Remaining Load: tensor([[0.4667, 0.4000, 0.4000, 0.4000, 0.9333]])\n",
      "Remaining Battery (SoC): tensor([[94.4279, 94.6824, 94.4829, 94.2659, 93.6894]])\n",
      "Demand at Selected Nodes: [[0. 0. 0. 0. 0.]]\n",
      "Distance from Previous Node: [[0.37566796 0.24669574 0.24669574 0.15789177 0.08767252]]\n",
      "\n",
      "Selection 5:\n",
      "Selected Nodes: tensor([[ 8,  7,  9, 10,  9]])\n",
      "Probabilities: tensor([[0.6219, 0.0547, 0.0901, 0.2593, 0.5193]], grad_fn=<ViewBackward0>)\n",
      "Remaining Load: tensor([[1., 1., 1., 1., 1.]])\n",
      "Remaining Battery (SoC): tensor([[95., 95., 95., 95., 95.]])\n",
      "Demand at Selected Nodes: [[0.6        0.46666667 0.2        0.53333336 0.2       ]]\n",
      "Distance from Previous Node: [[0.45024687 0.19079527 0.45415995 0.37566796 0.45415995]]\n",
      "\n",
      "Selection 6:\n",
      "Selected Nodes: tensor([[0, 0, 0, 0, 0]])\n",
      "Probabilities: tensor([[0.9999, 0.9998, 0.5152, 0.9994, 0.9987]], grad_fn=<ViewBackward0>)\n",
      "Remaining Load: tensor([[0.4000, 0.5333, 0.8000, 0.4667, 0.8000]])\n",
      "Remaining Battery (SoC): tensor([[93.0669, 93.7886, 93.5891, 93.6938, 93.3717]])\n",
      "Demand at Selected Nodes: [[0. 0. 0. 0. 0.]]\n",
      "Distance from Previous Node: [[0.45024687 0.19079527 0.45415995 0.37566796 0.45415995]]\n",
      "\n",
      "Selection 7:\n",
      "Selected Nodes: tensor([[6, 9, 7, 8, 4]])\n",
      "Probabilities: tensor([[0.3075, 0.1732, 0.1310, 0.6785, 0.2249]], grad_fn=<ViewBackward0>)\n",
      "Remaining Load: tensor([[1., 1., 1., 1., 1.]])\n",
      "Remaining Battery (SoC): tensor([[95., 95., 95., 95., 95.]])\n",
      "Demand at Selected Nodes: [[0.6        0.2        0.46666667 0.6        0.33333334]]\n",
      "Distance from Previous Node: [[0.24669574 0.45415995 0.19079527 0.45024687 0.20263276]]\n",
      "\n",
      "Selection 8:\n",
      "Selected Nodes: tensor([[0, 0, 0, 0, 0]])\n",
      "Probabilities: tensor([[0.9999, 0.9007, 0.9951, 0.9999, 0.9998]], grad_fn=<ViewBackward0>)\n",
      "Remaining Load: tensor([[0.4000, 0.8000, 0.5333, 0.4000, 0.6667]])\n",
      "Remaining Battery (SoC): tensor([[91.4356, 93.0973, 91.9437, 92.3327, 91.7263]])\n",
      "Demand at Selected Nodes: [[0. 0. 0. 0. 0.]]\n",
      "Distance from Previous Node: [[0.24669574 0.45415995 0.19079527 0.45024687 0.20263276]]\n",
      "\n",
      "Selection 9:\n",
      "Selected Nodes: tensor([[5, 8, 8, 9, 3]])\n",
      "Probabilities: tensor([[0.2675, 0.2274, 0.3344, 0.0262, 0.1485]], grad_fn=<ViewBackward0>)\n",
      "Remaining Load: tensor([[1., 1., 1., 1., 1.]])\n",
      "Remaining Battery (SoC): tensor([[95., 95., 95., 95., 95.]])\n",
      "Demand at Selected Nodes: [[0.06666667 0.6        0.6        0.2        0.6       ]]\n",
      "Distance from Previous Node: [[0.36174887 0.45024687 0.45024687 0.45415995 0.14271691]]\n",
      "\n",
      "Selection 10:\n",
      "Selected Nodes: tensor([[0, 0, 0, 2, 0]])\n",
      "Probabilities: tensor([[0.9996, 0.9999, 0.9986, 0.0076, 1.0000]], grad_fn=<ViewBackward0>)\n",
      "Remaining Load: tensor([[0.9333, 0.4000, 0.4000, 0.8000, 0.4000]])\n",
      "Remaining Battery (SoC): tensor([[90.5419, 91.4519, 91.2525, 90.7015, 90.9922]])\n",
      "Demand at Selected Nodes: [[0.         0.         0.         0.06666667 0.        ]]\n",
      "Distance from Previous Node: [[0.36174887 0.45024687 0.45024687 0.4449186  0.14271691]]\n",
      "\n",
      "Selection 11:\n",
      "Selected Nodes: tensor([[ 3, 10, 10,  0,  1]])\n",
      "Probabilities: tensor([[0.4904, 0.1590, 0.1980, 0.9971, 0.1830]], grad_fn=<ViewBackward0>)\n",
      "Remaining Load: tensor([[1.0000, 1.0000, 1.0000, 0.7333, 1.0000]])\n",
      "Remaining Battery (SoC): tensor([[95.0000, 95.0000, 95.0000, 85.5803, 95.0000]])\n",
      "Demand at Selected Nodes: [[0.6        0.53333336 0.53333336 0.         0.6       ]]\n",
      "Distance from Previous Node: [[0.14271691 0.37566796 0.37566796 0.08767252 0.15789177]]\n",
      "\n",
      "Selection 12:\n",
      "Selected Nodes: tensor([[0, 0, 0, 3, 0]])\n",
      "Probabilities: tensor([[1.0000, 0.9999, 0.9990, 0.3548, 1.0000]], grad_fn=<ViewBackward0>)\n",
      "Remaining Load: tensor([[0.4000, 0.4667, 0.4667, 1.0000, 0.4000]])\n",
      "Remaining Battery (SoC): tensor([[89.2312, 89.8206, 89.6212, 95.0000, 90.4751]])\n",
      "Demand at Selected Nodes: [[0.  0.  0.  0.6 0. ]]\n",
      "Distance from Previous Node: [[0.14271691 0.37566796 0.37566796 0.14271691 0.15789177]]\n",
      "\n",
      "Selection 13:\n",
      "Selected Nodes: tensor([[7, 1, 1, 0, 6]])\n",
      "Probabilities: tensor([[0.4949, 0.3418, 0.3151, 0.7986, 0.2490]], grad_fn=<ViewBackward0>)\n",
      "Remaining Load: tensor([[1.0000, 1.0000, 1.0000, 0.4000, 1.0000]])\n",
      "Remaining Battery (SoC): tensor([[95.0000, 95.0000, 95.0000, 88.9140, 95.0000]])\n",
      "Demand at Selected Nodes: [[0.46666667 0.6        0.6        0.         0.6       ]]\n",
      "Distance from Previous Node: [[0.19079527 0.15789177 0.15789177 0.14271691 0.24669574]]\n",
      "\n",
      "Selection 14:\n",
      "Selected Nodes: tensor([[0, 0, 0, 6, 0]])\n",
      "Probabilities: tensor([[1.0000, 0.9999, 0.9991, 0.6065, 1.0000]], grad_fn=<ViewBackward0>)\n",
      "Remaining Load: tensor([[0.5333, 0.4000, 0.4000, 1.0000, 0.4000]])\n",
      "Remaining Battery (SoC): tensor([[88.7142, 88.4596, 88.2601, 95.0000, 89.9030]])\n",
      "Demand at Selected Nodes: [[0.  0.  0.  0.6 0. ]]\n",
      "Distance from Previous Node: [[0.19079527 0.15789177 0.15789177 0.24669574 0.24669574]]\n",
      "\n",
      "Selection 15:\n",
      "Selected Nodes: tensor([[2, 3, 5, 0, 7]])\n",
      "Probabilities: tensor([[0.2160, 0.5186, 0.4642, 0.7709, 0.4458]], grad_fn=<ViewBackward0>)\n",
      "Remaining Load: tensor([[1.0000, 1.0000, 1.0000, 0.4000, 1.0000]])\n",
      "Remaining Battery (SoC): tensor([[95.0000, 95.0000, 95.0000, 88.3969, 95.0000]])\n",
      "Demand at Selected Nodes: [[0.06666667 0.6        0.06666667 0.         0.46666667]]\n",
      "Distance from Previous Node: [[0.08767252 0.14271691 0.36174887 0.24669574 0.19079527]]\n",
      "\n",
      "Selection 16:\n",
      "Selected Nodes: tensor([[0, 0, 0, 7, 0]])\n",
      "Probabilities: tensor([[1.0000, 0.9999, 0.9991, 0.9599, 1.0000]], grad_fn=<ViewBackward0>)\n",
      "Remaining Load: tensor([[0.9333, 0.4000, 0.9333, 1.0000, 0.5333]])\n",
      "Remaining Battery (SoC): tensor([[88.0229, 87.8875, 87.6881, 95.0000, 89.0092]])\n",
      "Demand at Selected Nodes: [[0.         0.         0.         0.46666667 0.        ]]\n",
      "Distance from Previous Node: [[0.08767252 0.14271691 0.36174887 0.19079527 0.19079527]]\n",
      "\n",
      "Selection 17:\n",
      "Selected Nodes: tensor([[ 9,  4,  2,  0, 10]])\n",
      "Probabilities: tensor([[0.9447, 0.5868, 0.6155, 0.7962, 0.6553]], grad_fn=<ViewBackward0>)\n",
      "Remaining Load: tensor([[1.0000, 1.0000, 1.0000, 0.5333, 1.0000]])\n",
      "Remaining Battery (SoC): tensor([[95.0000, 95.0000, 95.0000, 87.5031, 95.0000]])\n",
      "Demand at Selected Nodes: [[0.2        0.33333334 0.06666667 0.         0.53333336]]\n",
      "Distance from Previous Node: [[0.45415995 0.20263276 0.08767252 0.19079527 0.37566796]]\n",
      "\n",
      "Selection 18:\n",
      "Selected Nodes: tensor([[0, 5, 0, 5, 0]])\n",
      "Probabilities: tensor([[1.0000, 0.2043, 1.0000, 1.0000, 1.0000]], grad_fn=<ViewBackward0>)\n",
      "Remaining Load: tensor([[0.8000, 0.6667, 0.9333, 1.0000, 0.4667]])\n",
      "Remaining Battery (SoC): tensor([[87.7053, 87.3705, 86.3775, 95.0000, 88.3180]])\n",
      "Demand at Selected Nodes: [[0.         0.06666667 0.         0.06666667 0.        ]]\n",
      "Distance from Previous Node: [[0.45415995 0.5614966  0.08767252 0.36174887 0.37566796]]\n",
      "\n",
      "Selection 19:\n",
      "Selected Nodes: tensor([[4, 0, 4, 0, 8]])\n",
      "Probabilities: tensor([[1., 1., 1., 1., 1.]], grad_fn=<ViewBackward0>)\n",
      "Remaining Load: tensor([[1.0000, 0.6000, 1.0000, 0.9333, 1.0000]])\n",
      "Remaining Battery (SoC): tensor([[95.0000, 77.3459, 95.0000, 86.8119, 95.0000]])\n",
      "Demand at Selected Nodes: [[0.33333334 0.         0.33333334 0.         0.6       ]]\n",
      "Distance from Previous Node: [[0.20263276 0.36174887 0.20263276 0.36174887 0.45024687]]\n",
      "\n",
      "Selection 20:\n",
      "Selected Nodes: tensor([[0, 0, 0, 0, 0]])\n",
      "Probabilities: tensor([[1., 1., 1., 1., 1.]], grad_fn=<ViewBackward0>)\n",
      "Remaining Load: tensor([[0.6667, 1.0000, 0.6667, 1.0000, 0.4000]])\n",
      "Remaining Battery (SoC): tensor([[86.0598, 95.0000, 86.0598, 95.0000, 86.9569]])\n",
      "Demand at Selected Nodes: [[0. 0. 0. 0. 0.]]\n",
      "Distance from Previous Node: [[0.20263276 0.         0.20263276 0.         0.45024687]]\n",
      "\n",
      "All nodes have been visited and returned to the depot. Process completed.\n"
     ]
    },
    {
     "data": {
      "application/vnd.plotly.v1+json": {
       "config": {
        "plotlyServerURL": "https://plot.ly"
       },
       "data": [
        {
         "marker": {
          "color": "red",
          "size": 12
         },
         "mode": "markers+text",
         "name": "Depot",
         "text": [
          "Depot"
         ],
         "textposition": "top center",
         "type": "scatter",
         "x": [
          0.5
         ],
         "y": [
          0.5
         ]
        },
        {
         "marker": {
          "color": "blue",
          "size": 8
         },
         "mode": "markers+text",
         "name": "Node 1",
         "text": [
          "Node 1 (Demand: 0.60)"
         ],
         "textposition": "top center",
         "type": "scatter",
         "x": [
          0.3707888722419739
         ],
         "y": [
          0.4092569947242737
         ]
        },
        {
         "marker": {
          "color": "blue",
          "size": 8
         },
         "mode": "markers+text",
         "name": "Node 2",
         "text": [
          "Node 2 (Demand: 0.07)"
         ],
         "textposition": "top center",
         "type": "scatter",
         "x": [
          0.45076221227645874
         ],
         "y": [
          0.42745959758758545
         ]
        },
        {
         "marker": {
          "color": "blue",
          "size": 8
         },
         "mode": "markers+text",
         "name": "Node 3",
         "text": [
          "Node 3 (Demand: 0.60)"
         ],
         "textposition": "top center",
         "type": "scatter",
         "x": [
          0.36364442110061646
         ],
         "y": [
          0.45786601305007935
         ]
        },
        {
         "marker": {
          "color": "blue",
          "size": 8
         },
         "mode": "markers+text",
         "name": "Node 4",
         "text": [
          "Node 4 (Demand: 0.33)"
         ],
         "textposition": "top center",
         "type": "scatter",
         "x": [
          0.5859314799308777
         ],
         "y": [
          0.3164902925491333
         ]
        },
        {
         "marker": {
          "color": "blue",
          "size": 8
         },
         "mode": "markers+text",
         "name": "Node 5",
         "text": [
          "Node 5 (Demand: 0.07)"
         ],
         "textposition": "top center",
         "type": "scatter",
         "x": [
          0.4185701608657837
         ],
         "y": [
          0.8524647951126099
         ]
        },
        {
         "marker": {
          "color": "blue",
          "size": 8
         },
         "mode": "markers+text",
         "name": "Node 6",
         "text": [
          "Node 6 (Demand: 0.60)"
         ],
         "textposition": "top center",
         "type": "scatter",
         "x": [
          0.31505751609802246
         ],
         "y": [
          0.33673620223999023
         ]
        },
        {
         "marker": {
          "color": "blue",
          "size": 8
         },
         "mode": "markers+text",
         "name": "Node 7",
         "text": [
          "Node 7 (Demand: 0.47)"
         ],
         "textposition": "top center",
         "type": "scatter",
         "x": [
          0.32700544595718384
         ],
         "y": [
          0.41952812671661377
         ]
        },
        {
         "marker": {
          "color": "blue",
          "size": 8
         },
         "mode": "markers+text",
         "name": "Node 8",
         "text": [
          "Node 8 (Demand: 0.60)"
         ],
         "textposition": "top center",
         "type": "scatter",
         "x": [
          0.04975771903991699
         ],
         "y": [
          0.5020358562469482
         ]
        },
        {
         "marker": {
          "color": "blue",
          "size": 8
         },
         "mode": "markers+text",
         "name": "Node 9",
         "text": [
          "Node 9 (Demand: 0.20)"
         ],
         "textposition": "top center",
         "type": "scatter",
         "x": [
          0.8168841600418091
         ],
         "y": [
          0.17466068267822266
         ]
        },
        {
         "marker": {
          "color": "blue",
          "size": 8
         },
         "mode": "markers+text",
         "name": "Node 10",
         "text": [
          "Node 10 (Demand: 0.53)"
         ],
         "textposition": "top center",
         "type": "scatter",
         "x": [
          0.37972837686538696
         ],
         "y": [
          0.14410513639450073
         ]
        },
        {
         "mode": "lines+markers",
         "name": "Shortest Path - Drone 4",
         "type": "scatter",
         "x": [
          0.5,
          0.5,
          0.5859314799308777,
          0.5,
          0.3707888722419739,
          0.5,
          0.37972837686538696,
          0.5,
          0.04975771903991699,
          0.5,
          0.8168841600418091,
          0.45076221227645874,
          0.5,
          0.36364442110061646,
          0.5,
          0.31505751609802246,
          0.5,
          0.32700544595718384,
          0.5,
          0.4185701608657837,
          0.5,
          0.5,
          0.5
         ],
         "y": [
          0.5,
          0.5,
          0.3164902925491333,
          0.5,
          0.4092569947242737,
          0.5,
          0.14410513639450073,
          0.5,
          0.5020358562469482,
          0.5,
          0.17466068267822266,
          0.42745959758758545,
          0.5,
          0.45786601305007935,
          0.5,
          0.33673620223999023,
          0.5,
          0.41952812671661377,
          0.5,
          0.8524647951126099,
          0.5,
          0.5,
          0.5
         ]
        }
       ],
       "layout": {
        "template": {
         "data": {
          "bar": [
           {
            "error_x": {
             "color": "#2a3f5f"
            },
            "error_y": {
             "color": "#2a3f5f"
            },
            "marker": {
             "line": {
              "color": "#E5ECF6",
              "width": 0.5
             },
             "pattern": {
              "fillmode": "overlay",
              "size": 10,
              "solidity": 0.2
             }
            },
            "type": "bar"
           }
          ],
          "barpolar": [
           {
            "marker": {
             "line": {
              "color": "#E5ECF6",
              "width": 0.5
             },
             "pattern": {
              "fillmode": "overlay",
              "size": 10,
              "solidity": 0.2
             }
            },
            "type": "barpolar"
           }
          ],
          "carpet": [
           {
            "aaxis": {
             "endlinecolor": "#2a3f5f",
             "gridcolor": "white",
             "linecolor": "white",
             "minorgridcolor": "white",
             "startlinecolor": "#2a3f5f"
            },
            "baxis": {
             "endlinecolor": "#2a3f5f",
             "gridcolor": "white",
             "linecolor": "white",
             "minorgridcolor": "white",
             "startlinecolor": "#2a3f5f"
            },
            "type": "carpet"
           }
          ],
          "choropleth": [
           {
            "colorbar": {
             "outlinewidth": 0,
             "ticks": ""
            },
            "type": "choropleth"
           }
          ],
          "contour": [
           {
            "colorbar": {
             "outlinewidth": 0,
             "ticks": ""
            },
            "colorscale": [
             [
              0,
              "#0d0887"
             ],
             [
              0.1111111111111111,
              "#46039f"
             ],
             [
              0.2222222222222222,
              "#7201a8"
             ],
             [
              0.3333333333333333,
              "#9c179e"
             ],
             [
              0.4444444444444444,
              "#bd3786"
             ],
             [
              0.5555555555555556,
              "#d8576b"
             ],
             [
              0.6666666666666666,
              "#ed7953"
             ],
             [
              0.7777777777777778,
              "#fb9f3a"
             ],
             [
              0.8888888888888888,
              "#fdca26"
             ],
             [
              1,
              "#f0f921"
             ]
            ],
            "type": "contour"
           }
          ],
          "contourcarpet": [
           {
            "colorbar": {
             "outlinewidth": 0,
             "ticks": ""
            },
            "type": "contourcarpet"
           }
          ],
          "heatmap": [
           {
            "colorbar": {
             "outlinewidth": 0,
             "ticks": ""
            },
            "colorscale": [
             [
              0,
              "#0d0887"
             ],
             [
              0.1111111111111111,
              "#46039f"
             ],
             [
              0.2222222222222222,
              "#7201a8"
             ],
             [
              0.3333333333333333,
              "#9c179e"
             ],
             [
              0.4444444444444444,
              "#bd3786"
             ],
             [
              0.5555555555555556,
              "#d8576b"
             ],
             [
              0.6666666666666666,
              "#ed7953"
             ],
             [
              0.7777777777777778,
              "#fb9f3a"
             ],
             [
              0.8888888888888888,
              "#fdca26"
             ],
             [
              1,
              "#f0f921"
             ]
            ],
            "type": "heatmap"
           }
          ],
          "heatmapgl": [
           {
            "colorbar": {
             "outlinewidth": 0,
             "ticks": ""
            },
            "colorscale": [
             [
              0,
              "#0d0887"
             ],
             [
              0.1111111111111111,
              "#46039f"
             ],
             [
              0.2222222222222222,
              "#7201a8"
             ],
             [
              0.3333333333333333,
              "#9c179e"
             ],
             [
              0.4444444444444444,
              "#bd3786"
             ],
             [
              0.5555555555555556,
              "#d8576b"
             ],
             [
              0.6666666666666666,
              "#ed7953"
             ],
             [
              0.7777777777777778,
              "#fb9f3a"
             ],
             [
              0.8888888888888888,
              "#fdca26"
             ],
             [
              1,
              "#f0f921"
             ]
            ],
            "type": "heatmapgl"
           }
          ],
          "histogram": [
           {
            "marker": {
             "pattern": {
              "fillmode": "overlay",
              "size": 10,
              "solidity": 0.2
             }
            },
            "type": "histogram"
           }
          ],
          "histogram2d": [
           {
            "colorbar": {
             "outlinewidth": 0,
             "ticks": ""
            },
            "colorscale": [
             [
              0,
              "#0d0887"
             ],
             [
              0.1111111111111111,
              "#46039f"
             ],
             [
              0.2222222222222222,
              "#7201a8"
             ],
             [
              0.3333333333333333,
              "#9c179e"
             ],
             [
              0.4444444444444444,
              "#bd3786"
             ],
             [
              0.5555555555555556,
              "#d8576b"
             ],
             [
              0.6666666666666666,
              "#ed7953"
             ],
             [
              0.7777777777777778,
              "#fb9f3a"
             ],
             [
              0.8888888888888888,
              "#fdca26"
             ],
             [
              1,
              "#f0f921"
             ]
            ],
            "type": "histogram2d"
           }
          ],
          "histogram2dcontour": [
           {
            "colorbar": {
             "outlinewidth": 0,
             "ticks": ""
            },
            "colorscale": [
             [
              0,
              "#0d0887"
             ],
             [
              0.1111111111111111,
              "#46039f"
             ],
             [
              0.2222222222222222,
              "#7201a8"
             ],
             [
              0.3333333333333333,
              "#9c179e"
             ],
             [
              0.4444444444444444,
              "#bd3786"
             ],
             [
              0.5555555555555556,
              "#d8576b"
             ],
             [
              0.6666666666666666,
              "#ed7953"
             ],
             [
              0.7777777777777778,
              "#fb9f3a"
             ],
             [
              0.8888888888888888,
              "#fdca26"
             ],
             [
              1,
              "#f0f921"
             ]
            ],
            "type": "histogram2dcontour"
           }
          ],
          "mesh3d": [
           {
            "colorbar": {
             "outlinewidth": 0,
             "ticks": ""
            },
            "type": "mesh3d"
           }
          ],
          "parcoords": [
           {
            "line": {
             "colorbar": {
              "outlinewidth": 0,
              "ticks": ""
             }
            },
            "type": "parcoords"
           }
          ],
          "pie": [
           {
            "automargin": true,
            "type": "pie"
           }
          ],
          "scatter": [
           {
            "fillpattern": {
             "fillmode": "overlay",
             "size": 10,
             "solidity": 0.2
            },
            "type": "scatter"
           }
          ],
          "scatter3d": [
           {
            "line": {
             "colorbar": {
              "outlinewidth": 0,
              "ticks": ""
             }
            },
            "marker": {
             "colorbar": {
              "outlinewidth": 0,
              "ticks": ""
             }
            },
            "type": "scatter3d"
           }
          ],
          "scattercarpet": [
           {
            "marker": {
             "colorbar": {
              "outlinewidth": 0,
              "ticks": ""
             }
            },
            "type": "scattercarpet"
           }
          ],
          "scattergeo": [
           {
            "marker": {
             "colorbar": {
              "outlinewidth": 0,
              "ticks": ""
             }
            },
            "type": "scattergeo"
           }
          ],
          "scattergl": [
           {
            "marker": {
             "colorbar": {
              "outlinewidth": 0,
              "ticks": ""
             }
            },
            "type": "scattergl"
           }
          ],
          "scattermapbox": [
           {
            "marker": {
             "colorbar": {
              "outlinewidth": 0,
              "ticks": ""
             }
            },
            "type": "scattermapbox"
           }
          ],
          "scatterpolar": [
           {
            "marker": {
             "colorbar": {
              "outlinewidth": 0,
              "ticks": ""
             }
            },
            "type": "scatterpolar"
           }
          ],
          "scatterpolargl": [
           {
            "marker": {
             "colorbar": {
              "outlinewidth": 0,
              "ticks": ""
             }
            },
            "type": "scatterpolargl"
           }
          ],
          "scatterternary": [
           {
            "marker": {
             "colorbar": {
              "outlinewidth": 0,
              "ticks": ""
             }
            },
            "type": "scatterternary"
           }
          ],
          "surface": [
           {
            "colorbar": {
             "outlinewidth": 0,
             "ticks": ""
            },
            "colorscale": [
             [
              0,
              "#0d0887"
             ],
             [
              0.1111111111111111,
              "#46039f"
             ],
             [
              0.2222222222222222,
              "#7201a8"
             ],
             [
              0.3333333333333333,
              "#9c179e"
             ],
             [
              0.4444444444444444,
              "#bd3786"
             ],
             [
              0.5555555555555556,
              "#d8576b"
             ],
             [
              0.6666666666666666,
              "#ed7953"
             ],
             [
              0.7777777777777778,
              "#fb9f3a"
             ],
             [
              0.8888888888888888,
              "#fdca26"
             ],
             [
              1,
              "#f0f921"
             ]
            ],
            "type": "surface"
           }
          ],
          "table": [
           {
            "cells": {
             "fill": {
              "color": "#EBF0F8"
             },
             "line": {
              "color": "white"
             }
            },
            "header": {
             "fill": {
              "color": "#C8D4E3"
             },
             "line": {
              "color": "white"
             }
            },
            "type": "table"
           }
          ]
         },
         "layout": {
          "annotationdefaults": {
           "arrowcolor": "#2a3f5f",
           "arrowhead": 0,
           "arrowwidth": 1
          },
          "autotypenumbers": "strict",
          "coloraxis": {
           "colorbar": {
            "outlinewidth": 0,
            "ticks": ""
           }
          },
          "colorscale": {
           "diverging": [
            [
             0,
             "#8e0152"
            ],
            [
             0.1,
             "#c51b7d"
            ],
            [
             0.2,
             "#de77ae"
            ],
            [
             0.3,
             "#f1b6da"
            ],
            [
             0.4,
             "#fde0ef"
            ],
            [
             0.5,
             "#f7f7f7"
            ],
            [
             0.6,
             "#e6f5d0"
            ],
            [
             0.7,
             "#b8e186"
            ],
            [
             0.8,
             "#7fbc41"
            ],
            [
             0.9,
             "#4d9221"
            ],
            [
             1,
             "#276419"
            ]
           ],
           "sequential": [
            [
             0,
             "#0d0887"
            ],
            [
             0.1111111111111111,
             "#46039f"
            ],
            [
             0.2222222222222222,
             "#7201a8"
            ],
            [
             0.3333333333333333,
             "#9c179e"
            ],
            [
             0.4444444444444444,
             "#bd3786"
            ],
            [
             0.5555555555555556,
             "#d8576b"
            ],
            [
             0.6666666666666666,
             "#ed7953"
            ],
            [
             0.7777777777777778,
             "#fb9f3a"
            ],
            [
             0.8888888888888888,
             "#fdca26"
            ],
            [
             1,
             "#f0f921"
            ]
           ],
           "sequentialminus": [
            [
             0,
             "#0d0887"
            ],
            [
             0.1111111111111111,
             "#46039f"
            ],
            [
             0.2222222222222222,
             "#7201a8"
            ],
            [
             0.3333333333333333,
             "#9c179e"
            ],
            [
             0.4444444444444444,
             "#bd3786"
            ],
            [
             0.5555555555555556,
             "#d8576b"
            ],
            [
             0.6666666666666666,
             "#ed7953"
            ],
            [
             0.7777777777777778,
             "#fb9f3a"
            ],
            [
             0.8888888888888888,
             "#fdca26"
            ],
            [
             1,
             "#f0f921"
            ]
           ]
          },
          "colorway": [
           "#636efa",
           "#EF553B",
           "#00cc96",
           "#ab63fa",
           "#FFA15A",
           "#19d3f3",
           "#FF6692",
           "#B6E880",
           "#FF97FF",
           "#FECB52"
          ],
          "font": {
           "color": "#2a3f5f"
          },
          "geo": {
           "bgcolor": "white",
           "lakecolor": "white",
           "landcolor": "#E5ECF6",
           "showlakes": true,
           "showland": true,
           "subunitcolor": "white"
          },
          "hoverlabel": {
           "align": "left"
          },
          "hovermode": "closest",
          "mapbox": {
           "style": "light"
          },
          "paper_bgcolor": "white",
          "plot_bgcolor": "#E5ECF6",
          "polar": {
           "angularaxis": {
            "gridcolor": "white",
            "linecolor": "white",
            "ticks": ""
           },
           "bgcolor": "#E5ECF6",
           "radialaxis": {
            "gridcolor": "white",
            "linecolor": "white",
            "ticks": ""
           }
          },
          "scene": {
           "xaxis": {
            "backgroundcolor": "#E5ECF6",
            "gridcolor": "white",
            "gridwidth": 2,
            "linecolor": "white",
            "showbackground": true,
            "ticks": "",
            "zerolinecolor": "white"
           },
           "yaxis": {
            "backgroundcolor": "#E5ECF6",
            "gridcolor": "white",
            "gridwidth": 2,
            "linecolor": "white",
            "showbackground": true,
            "ticks": "",
            "zerolinecolor": "white"
           },
           "zaxis": {
            "backgroundcolor": "#E5ECF6",
            "gridcolor": "white",
            "gridwidth": 2,
            "linecolor": "white",
            "showbackground": true,
            "ticks": "",
            "zerolinecolor": "white"
           }
          },
          "shapedefaults": {
           "line": {
            "color": "#2a3f5f"
           }
          },
          "ternary": {
           "aaxis": {
            "gridcolor": "white",
            "linecolor": "white",
            "ticks": ""
           },
           "baxis": {
            "gridcolor": "white",
            "linecolor": "white",
            "ticks": ""
           },
           "bgcolor": "#E5ECF6",
           "caxis": {
            "gridcolor": "white",
            "linecolor": "white",
            "ticks": ""
           }
          },
          "title": {
           "x": 0.05
          },
          "xaxis": {
           "automargin": true,
           "gridcolor": "white",
           "linecolor": "white",
           "ticks": "",
           "title": {
            "standoff": 15
           },
           "zerolinecolor": "white",
           "zerolinewidth": 2
          },
          "yaxis": {
           "automargin": true,
           "gridcolor": "white",
           "linecolor": "white",
           "ticks": "",
           "title": {
            "standoff": 15
           },
           "zerolinecolor": "white",
           "zerolinewidth": 2
          }
         }
        },
        "title": {
         "text": "Shortest Drone Path with Node Numbers and Demand"
        },
        "xaxis": {
         "title": {
          "text": "X Coordinate"
         }
        },
        "yaxis": {
         "title": {
          "text": "Y Coordinate"
         }
        }
       }
      }
     },
     "metadata": {},
     "output_type": "display_data"
    }
   ],
   "source": [
    "import plotly.graph_objs as go\n",
    "import torch\n",
    "from CVRPModel import CVRPModel\n",
    "import numpy as np\n",
    "\n",
    "# 환경 및 모델 설정\n",
    "env_params = {\n",
    "    'problem_size': 10,  # 노드 수\n",
    "    'pomo_size': 5       # POMO 수 (여러 대의 드론이 각기 다른 경로를 탐색)\n",
    "}\n",
    "\n",
    "model_params = {\n",
    "    'embedding_dim': 128,\n",
    "    'sqrt_embedding_dim': 128**(1/2),\n",
    "    'encoder_layer_num': 6,\n",
    "    'qkv_dim': 16,\n",
    "    'head_num': 8,\n",
    "    'logit_clipping': 10,\n",
    "    'ff_hidden_dim': 512,\n",
    "    'eval_type': 'argmax'\n",
    "}\n",
    "\n",
    "# CVRP 환경 및 모델 생성\n",
    "env = CVRPEnv(**env_params)\n",
    "model = CVRPModel(**model_params)\n",
    "\n",
    "# 문제 로드 및 초기화\n",
    "env.load_problems(batch_size=1)\n",
    "reset_state, reward, done = env.reset()\n",
    "\n",
    "# 모델에 상태를 전달하여 초기화\n",
    "model.pre_forward(reset_state)\n",
    "print(\"\\n--- Debugging reset() ---\")\n",
    "print(\"Depot XY:\", reset_state.depot_xy)\n",
    "print(\"Node XY:\", reset_state.node_xy)\n",
    "print(\"Node Demand:\", reset_state.node_demand)\n",
    "print(\"Reward:\", reward)\n",
    "print(\"Done:\", done)\n",
    "print(\"--------------------------\\n\")\n",
    "\n",
    "# 첫 번째 단계에서 선택 (출발지, depot)\n",
    "step_state, reward, done = env.pre_step()\n",
    "print(\"\\n--- Debugging pre_step() ---\")\n",
    "print(\"Selected Count:\", step_state.selected_count)\n",
    "print(\"Load:\", step_state.load)\n",
    "print(\"Battery (SoC):\", step_state.soc)\n",
    "print(\"Current Node:\", step_state.current_node)\n",
    "print(\"Ninf Mask:\", step_state.ninf_mask)\n",
    "print(\"Finished:\", step_state.finished)\n",
    "print(\"Reward:\", reward)\n",
    "print(\"Done:\", done)\n",
    "print(\"-----------------------------\\n\")\n",
    "\n",
    "# 경로를 저장할 리스트\n",
    "drone_paths = [[] for _ in range(env_params['pomo_size'])]\n",
    "depot_xy = env.reset_state.depot_xy[0, 0].cpu().numpy()  # depot 좌표가 2차원일 때 처리\n",
    "node_positions = env.depot_node_xy[0].cpu().numpy()  # 모든 노드의 좌표\n",
    "node_demands = env.reset_state.node_demand[0].cpu().numpy()  # 모든 노드의 demand 값\n",
    "\n",
    "# 선택 카운터 증가\n",
    "selection_counter = 0\n",
    "\n",
    "# 계속해서 모든 노드를 방문하고 디팟으로 돌아올 때까지 선택하고 상태를 업데이트\n",
    "while True:\n",
    "    # 모델로부터 다음 선택을 받음\n",
    "    selected, prob = model(step_state)\n",
    "\n",
    "    # 선택된 노드를 각 드론 경로에 저장\n",
    "    for pomo_idx in range(env_params['pomo_size']):\n",
    "        selected_node_xy = env.depot_node_xy[0, selected[0, pomo_idx]].cpu().numpy()\n",
    "        drone_paths[pomo_idx].append(selected_node_xy)\n",
    "    \n",
    "    # 선택한 노드에 대한 수요(demand) 가져오기\n",
    "    selected_demand = env.depot_node_demand[0, selected].cpu().numpy()\n",
    "\n",
    "    print(f\"\\nSelection {selection_counter}:\")\n",
    "    print(\"Selected Nodes:\", selected)\n",
    "    print(\"Probabilities:\", prob)\n",
    "    print(\"Remaining Load:\", step_state.load)\n",
    "    print(\"Remaining Battery (SoC):\", step_state.soc)\n",
    "    print(\"Demand at Selected Nodes:\", selected_demand)\n",
    "\n",
    "    # 이전 노드와 선택된 노드 간의 거리 계산\n",
    "    if step_state.current_node is not None:\n",
    "        previous_node_xy = env.depot_node_xy[0, step_state.current_node[:, :, None]].squeeze(2).cpu().numpy()\n",
    "        selected_node_xy = env.depot_node_xy[0, selected].cpu().numpy()\n",
    "\n",
    "        # 유클리드 거리 계산\n",
    "        distance_to_previous_node = ((previous_node_xy - selected_node_xy) ** 2).sum(axis=-1) ** 0.5\n",
    "        print(\"Distance from Previous Node:\", distance_to_previous_node)\n",
    "\n",
    "    # 선택된 노드에 대한 상태 업데이트\n",
    "    step_state, reward, done = env.step(selected)\n",
    "\n",
    "    # 선택 카운터 증가\n",
    "    selection_counter += 1\n",
    "\n",
    "    # 모든 POMO가 작업을 완료하고 디팟으로 돌아왔는지 확인\n",
    "    if done:\n",
    "        print(\"\\nAll nodes have been visited and returned to the depot. Process completed.\")\n",
    "        break\n",
    "\n",
    "# 각 드론 경로의 총 이동 거리 계산\n",
    "total_distances = []\n",
    "for pomo_idx in range(env_params['pomo_size']):\n",
    "    drone_path = drone_paths[pomo_idx]\n",
    "    # 경로에 depot을 추가하여 경로의 시작과 끝이 depot이 되게 함\n",
    "    drone_path = [depot_xy] + drone_path + [depot_xy]\n",
    "    \n",
    "    # 경로 거리 계산\n",
    "    distance = sum(np.linalg.norm(np.array(drone_path[i]) - np.array(drone_path[i + 1])) for i in range(len(drone_path) - 1))\n",
    "    total_distances.append(distance)\n",
    "\n",
    "# 가장 짧은 경로 선택\n",
    "shortest_path_idx = np.argmin(total_distances)\n",
    "shortest_path = drone_paths[shortest_path_idx]\n",
    "\n",
    "# Plotly로 가장 짧은 경로 시각화\n",
    "fig = go.Figure()\n",
    "\n",
    "# Depot 표시\n",
    "fig.add_trace(go.Scatter(x=[depot_xy[0]], y=[depot_xy[1]], mode='markers+text', marker=dict(size=12, color='red'),\n",
    "                         text=['Depot'], textposition='top center', name='Depot'))\n",
    "\n",
    "# 모든 노드의 위치와 번호 및 수요 표시\n",
    "for node_idx in range(1, len(node_positions)):\n",
    "    demand_text = f\"Node {node_idx} (Demand: {node_demands[node_idx - 1]:.2f})\"\n",
    "    fig.add_trace(go.Scatter(x=[node_positions[node_idx][0]], y=[node_positions[node_idx][1]],\n",
    "                             mode='markers+text', marker=dict(size=8, color='blue'),\n",
    "                             text=[demand_text], textposition='top center', name=f'Node {node_idx}'))\n",
    "\n",
    "# 가장 짧은 경로 표시 (depot 추가)\n",
    "shortest_path = [depot_xy] + shortest_path + [depot_xy]\n",
    "path_x = [point[0] for point in shortest_path]\n",
    "path_y = [point[1] for point in shortest_path]\n",
    "\n",
    "fig.add_trace(go.Scatter(x=path_x, y=path_y, mode='lines+markers', name=f'Shortest Path - Drone {shortest_path_idx + 1}'))\n",
    "\n",
    "fig.update_layout(title=\"Shortest Drone Path with Node Numbers and Demand\", xaxis_title=\"X Coordinate\", yaxis_title=\"Y Coordinate\")\n",
    "\n",
    "# 그래프 출력\n",
    "fig.show()\n",
    "\n"
   ]
  },
  {
   "cell_type": "code",
   "execution_count": 216,
   "metadata": {},
   "outputs": [
    {
     "name": "stdout",
     "output_type": "stream",
     "text": [
      "\n",
      "--- Debugging reset() ---\n",
      "Depot XY: tensor([[[0.5000, 0.5000]]])\n",
      "Node XY: tensor([[[0.0110, 0.4176],\n",
      "         [0.2980, 0.3248],\n",
      "         [0.9227, 0.9672],\n",
      "         [0.7573, 0.5258],\n",
      "         [0.6121, 0.7623],\n",
      "         [0.1551, 0.3051],\n",
      "         [0.2630, 0.5092],\n",
      "         [0.1250, 0.1578],\n",
      "         [0.6386, 0.5575],\n",
      "         [0.0040, 0.1307]]])\n",
      "Node Demand: tensor([[0.6000, 0.0667, 0.5333, 0.5333, 0.1333, 0.5333, 0.0667, 0.4000, 0.5333,\n",
      "         0.2000]])\n",
      "Reward: tensor([[-7.0416, -6.2059, -7.0416, -7.1528, -6.6715]])\n",
      "Done: tensor(True)\n",
      "--------------------------\n",
      "\n",
      "\n",
      "--- Debugging pre_step() ---\n",
      "Selected Count: 19\n",
      "Load: tensor([[1., 1., 1., 1., 1.]])\n",
      "Battery (SoC): tensor([[95., 95., 95., 95., 95.]])\n",
      "Current Node: tensor([[0, 0, 0, 0, 0]])\n",
      "Ninf Mask: tensor([[[0., -inf, -inf, -inf, -inf, -inf, -inf, -inf, -inf, -inf, -inf],\n",
      "         [0., -inf, -inf, -inf, -inf, -inf, -inf, -inf, -inf, -inf, -inf],\n",
      "         [0., -inf, -inf, -inf, -inf, -inf, -inf, -inf, -inf, -inf, -inf],\n",
      "         [0., -inf, -inf, -inf, -inf, -inf, -inf, -inf, -inf, -inf, -inf],\n",
      "         [0., -inf, -inf, -inf, -inf, -inf, -inf, -inf, -inf, -inf, -inf]]])\n",
      "Finished: tensor([[True, True, True, True, True]])\n",
      "Reward: tensor([[-7.0416, -6.2059, -7.0416, -7.1528, -6.6715]])\n",
      "Done: tensor(True)\n",
      "-----------------------------\n",
      "\n",
      "hello\n"
     ]
    }
   ],
   "source": [
    "print(\"\\n--- Debugging reset() ---\")\n",
    "print(\"Depot XY:\", reset_state.depot_xy)\n",
    "print(\"Node XY:\", reset_state.node_xy)\n",
    "print(\"Node Demand:\", reset_state.node_demand)\n",
    "print(\"Reward:\", reward)\n",
    "print(\"Done:\", done)\n",
    "print(\"--------------------------\\n\")\n",
    "\n",
    "print(\"\\n--- Debugging pre_step() ---\")\n",
    "print(\"Selected Count:\", step_state.selected_count)\n",
    "print(\"Load:\", step_state.load)\n",
    "print(\"Battery (SoC):\", step_state.soc)\n",
    "print(\"Current Node:\", step_state.current_node)\n",
    "print(\"Ninf Mask:\", step_state.ninf_mask)\n",
    "print(\"Finished:\", step_state.finished)\n",
    "print(\"Reward:\", reward)\n",
    "print(\"Done:\", done)\n",
    "print(\"-----------------------------\\n\")\n",
    "step_state, reward, done = env.step(selected)"
   ]
  },
  {
   "cell_type": "code",
   "execution_count": null,
   "metadata": {},
   "outputs": [],
   "source": []
  }
 ],
 "metadata": {
  "kernelspec": {
   "display_name": "base",
   "language": "python",
   "name": "python3"
  },
  "language_info": {
   "codemirror_mode": {
    "name": "ipython",
    "version": 3
   },
   "file_extension": ".py",
   "mimetype": "text/x-python",
   "name": "python",
   "nbconvert_exporter": "python",
   "pygments_lexer": "ipython3",
   "version": "3.11.7"
  }
 },
 "nbformat": 4,
 "nbformat_minor": 2
}
